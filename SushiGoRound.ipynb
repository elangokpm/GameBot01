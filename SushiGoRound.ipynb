{
 "cells": [
  {
   "cell_type": "code",
   "execution_count": 1,
   "metadata": {
    "collapsed": true
   },
   "outputs": [],
   "source": [
    "from PIL import ImageGrab #grab screen\n",
    "from PIL import ImageOps #convert image to grayscale\n",
    "import win32api,win32con #control mouse events\n",
    "import numpy as np #array\n",
    "import os # to get working dir\n",
    "import time #get timestamp"
   ]
  },
  {
   "cell_type": "code",
   "execution_count": 2,
   "metadata": {
    "collapsed": true
   },
   "outputs": [],
   "source": [
    "def screenGrab():\n",
    "    im = ImageGrab.grab((188,144,828,624))\n",
    "    im.save(os.getcwd()+\"\\\\full_snap_\"+str(int(time.time()))+\".png\",\"PNG\")\n",
    "    return im"
   ]
  },
  {
   "cell_type": "code",
   "execution_count": 3,
   "metadata": {
    "collapsed": true
   },
   "outputs": [],
   "source": [
    "def leftClick():\n",
    "    win32api.mouse_event(win32con.MOUSEEVENTF_LEFTDOWN,0,0)\n",
    "    time.sleep(0.1)\n",
    "    win32api.mouse_event(win32con.MOUSEEVENTF_LEFTUP,0,0)"
   ]
  },
  {
   "cell_type": "code",
   "execution_count": 4,
   "metadata": {
    "collapsed": true
   },
   "outputs": [],
   "source": [
    "def leftDown():\n",
    "    win32api.mouse_event(win32con.MOUSEEVENTF_LEFTDOWN,0,0)\n",
    "    time.sleep(0.1)"
   ]
  },
  {
   "cell_type": "code",
   "execution_count": 5,
   "metadata": {
    "collapsed": true
   },
   "outputs": [],
   "source": [
    "def leftUp():\n",
    "    win32api.mouse_event(win32con.MOUSEEVENTF_LEFTUP,0,0)\n",
    "    time.sleep(0.1)    "
   ]
  },
  {
   "cell_type": "code",
   "execution_count": 6,
   "metadata": {
    "collapsed": true
   },
   "outputs": [],
   "source": [
    "def mousePos(cord):\n",
    "    win32api.SetCursorPos(cord)"
   ]
  },
  {
   "cell_type": "code",
   "execution_count": 11,
   "metadata": {},
   "outputs": [
    {
     "name": "stdout",
     "output_type": "stream",
     "text": [
      "1044 211\n"
     ]
    }
   ],
   "source": [
    "x,y = win32api.GetCursorPos()\n",
    "print(x,y)"
   ]
  },
  {
   "cell_type": "code",
   "execution_count": 7,
   "metadata": {
    "collapsed": true
   },
   "outputs": [],
   "source": [
    "def StartGame():\n",
    "    #click on play button\n",
    "    mousePos((495,345))\n",
    "    leftClick()\n",
    "    time.sleep(1)\n",
    "    \n",
    "    #click on continue button\n",
    "    mousePos((488,533))\n",
    "    leftClick()\n",
    "    time.sleep(1)\n",
    "    \n",
    "    #click on skip button\n",
    "    mousePos((769,596))\n",
    "    leftClick()\n",
    "    time.sleep(1)\n",
    "    \n",
    "    #click on continue button\n",
    "    mousePos((492,522))\n",
    "    leftClick()\n",
    "    time.sleep(1)"
   ]
  },
  {
   "cell_type": "code",
   "execution_count": 8,
   "metadata": {
    "collapsed": true
   },
   "outputs": [],
   "source": [
    "class Cord:\n",
    "    f_rice = (275,474)\n",
    "    f_nori = (221,529)\n",
    "    f_roe= (276,530)\n",
    "    \n",
    "    flodMat = (379,539)\n",
    "    phone = (775,513)\n",
    "    menu_toppings = (716,416)\n",
    "    t_nori = (677,421)\n",
    "    t_roe = (760,424)\n",
    "    t_exit = (780,479)\n",
    "    \n",
    "    menu_rice = (717,436)\n",
    "    buy_rice = (729,427)\n",
    "    \n",
    "    delivery_norm = (672,438)"
   ]
  },
  {
   "cell_type": "code",
   "execution_count": 9,
   "metadata": {
    "collapsed": true
   },
   "outputs": [],
   "source": [
    "foodOnHand = {'rice':10,'nori':10,'roe':10}"
   ]
  },
  {
   "cell_type": "code",
   "execution_count": 10,
   "metadata": {
    "collapsed": true
   },
   "outputs": [],
   "source": [
    "def makeFood(food):\n",
    "    if food == 'onigiri':\n",
    "        foodOnHand['rice'] -=2\n",
    "        foodOnHand['nori'] -=1\n",
    "        mousePos(Cord.f_rice)\n",
    "        leftClick()\n",
    "        time.sleep(0.1)\n",
    "        mousePos(Cord.f_rice)\n",
    "        leftClick()\n",
    "        time.sleep(0.1)\n",
    "        mousePos(Cord.f_nori)\n",
    "        leftClick()\n",
    "        time.sleep(0.1)\n",
    "        mousePos(Cord.flodMat)\n",
    "        leftClick()\n",
    "        time.sleep(1.5)\n",
    "    elif food == 'california_roll':\n",
    "        foodOnHand['rice'] -=1\n",
    "        foodOnHand['nori'] -=1\n",
    "        foodOnHand['roe'] -=1\n",
    "        mousePos(Cord.f_rice)\n",
    "        leftClick()\n",
    "        time.sleep(0.1)\n",
    "        mousePos(Cord.f_nori)\n",
    "        leftClick()\n",
    "        time.sleep(0.1)\n",
    "        mousePos(Cord.f_roe)\n",
    "        leftClick()\n",
    "        time.sleep(0.1)\n",
    "        mousePos(Cord.flodMat)\n",
    "        leftClick()\n",
    "        time.sleep(1.5)\n",
    "    elif food == 'Gunkan_maki':\n",
    "        foodOnHand['rice'] -= 1\n",
    "        foodOnHand['nori'] -=1\n",
    "        foodOnHand['roe'] -=2\n",
    "        mousePos(Cord.f_rice)\n",
    "        leftClick()\n",
    "        time.sleep(0.1)\n",
    "        mousePos(Cord.f_nori)\n",
    "        leftClick()\n",
    "        time.sleep(0.1)\n",
    "        mousePos(Cord.f_roe)\n",
    "        leftClick()\n",
    "        time.sleep(0.1)\n",
    "        mousePos(Cord.f_roe)\n",
    "        leftClick()\n",
    "        time.sleep(0.1)\n",
    "        mousePos(Cord.flodMat)\n",
    "        leftClick()\n",
    "        time.sleep(1.5)"
   ]
  },
  {
   "cell_type": "code",
   "execution_count": 11,
   "metadata": {
    "collapsed": true
   },
   "outputs": [],
   "source": [
    "x = 188\n",
    "y = 144\n",
    "def buyFood(food):\n",
    "    if food == 'rice':\n",
    "        mousePos(Cord.phone)\n",
    "        leftClick()\n",
    "        time.sleep(0.1)\n",
    "        mousePos(Cord.menu_rice)\n",
    "        leftClick()\n",
    "        time.sleep(0.1)\n",
    "        s = screenGrab()\n",
    "        time.sleep(1)\n",
    "        if s.getpixel((Cord.buy_rice[0]-x,Cord.buy_rice[1]-y))!=(127,127,127):\n",
    "            print('rice is available')\n",
    "            mousePos(Cord.buy_rice)\n",
    "            leftClick()\n",
    "            time.sleep(0.1)\n",
    "            mousePos(Cord.delivery_norm)\n",
    "            foodOnHand['rice'] += 10\n",
    "            leftClick()\n",
    "            time.sleep(2.5)\n",
    "        else:\n",
    "            print('rice is not available')\n",
    "            mousePos(Cord.t_exit)\n",
    "            leftClick()\n",
    "            time.sleep(1)\n",
    "            #buyFood(food)\n",
    "    if food == 'nori':\n",
    "        mousePos(Cord.phone)\n",
    "        leftClick()\n",
    "        time.sleep(0.1)\n",
    "        mousePos(Cord.menu_toppings)\n",
    "        leftClick()\n",
    "        time.sleep(0.1)\n",
    "        s = screenGrab()\n",
    "        time.sleep(1)\n",
    "        if s.getpixel((Cord.t_nori[0]-x,Cord.t_nori[1]-y))!=(33,30,11):\n",
    "            print('nori is available')\n",
    "            mousePos(Cord.t_nori)\n",
    "            leftClick()\n",
    "            time.sleep(0.1)\n",
    "            mousePos(Cord.delivery_norm)\n",
    "            foodOnHand['nori'] += 10\n",
    "            leftClick()\n",
    "            time.sleep(2.5)\n",
    "        else:\n",
    "            print('nori is not available')\n",
    "            mousePos(Cord.t_exit)\n",
    "            leftClick()\n",
    "            time.sleep(1)\n",
    "            #buyFood(food)\n",
    "    if food == 'roe':\n",
    "        mousePos(Cord.phone)\n",
    "        leftClick()\n",
    "        time.sleep(0.1)\n",
    "        mousePos(Cord.menu_toppings)\n",
    "        leftClick()\n",
    "        time.sleep(0.1)\n",
    "        s = screenGrab()\n",
    "        time.sleep(1)\n",
    "        if s.getpixel((Cord.t_roe[0]-x,Cord.t_roe[1]-y))!=(101,13,13):\n",
    "            print('roe is available')\n",
    "            mousePos(Cord.t_roe)\n",
    "            leftClick()\n",
    "            time.sleep(0.1)\n",
    "            mousePos(Cord.delivery_norm)\n",
    "            foodOnHand['roe'] += 10\n",
    "            leftClick()\n",
    "            time.sleep(2.5)\n",
    "        else:\n",
    "            print('roe is not available')\n",
    "            mousePos(Cord.t_exit)\n",
    "            leftClick()\n",
    "            time.sleep(1)\n",
    "            #buyFood(food)"
   ]
  },
  {
   "cell_type": "code",
   "execution_count": 12,
   "metadata": {
    "collapsed": true
   },
   "outputs": [],
   "source": [
    "def clear_tables():\n",
    "    mousePos((265,354))\n",
    "    leftClick()\n",
    "    \n",
    "    mousePos((369,355))\n",
    "    leftClick()\n",
    "    \n",
    "    mousePos((469,353))\n",
    "    leftClick()\n",
    "    \n",
    "    mousePos((568,353))\n",
    "    leftClick()\n",
    "    \n",
    "    mousePos((670,352))\n",
    "    leftClick()\n",
    "    \n",
    "    mousePos((772,352))\n",
    "    leftClick()\n",
    "    time.sleep(1)"
   ]
  },
  {
   "cell_type": "code",
   "execution_count": 13,
   "metadata": {
    "scrolled": true
   },
   "outputs": [],
   "source": [
    "seat1 = (37+x,51+y,77+x,86+y)\n",
    "seat2 = (138+x,51+y,178+x,86+y)\n",
    "seat3 = (239+x,51+y,279+x,86+y)\n",
    "seat4 = (340+x,51+y,380+x,86+y)\n",
    "seat5 = (441+x,51+y,481+x,86+y)\n",
    "seat6 = (542+x,51+y,582+x,86+y)\n",
    "def get_order(box):\n",
    "    im = ImageOps.grayscale(ImageGrab.grab(box))\n",
    "    a = np.array(im.getcolors())\n",
    "    a = a.sum()\n",
    "    im.save(os.getcwd()+'\\\\food'+str(int(time.time()))+'.png','PNG')\n",
    "    return a\n",
    "\n",
    "#f1=get_order(seat1)\n",
    "#print(f1)\n",
    "#f1=get_order(seat2)\n",
    "#print(f1)\n",
    "#f1=get_order(seat3)\n",
    "#print(f1)\n",
    "#f1=get_order(seat4)\n",
    "#print(f1)\n",
    "#f1=get_order(seat5)\n",
    "#print(f1)\n",
    "#f1=get_order(seat6)\n",
    "#print(f1)\n"
   ]
  },
  {
   "cell_type": "code",
   "execution_count": 14,
   "metadata": {
    "collapsed": true
   },
   "outputs": [],
   "source": [
    "sushi_types = {2565:'onigiri',3209:'california_roll',2572:'Gunkan_maki'}"
   ]
  },
  {
   "cell_type": "code",
   "execution_count": 15,
   "metadata": {
    "collapsed": true
   },
   "outputs": [],
   "source": [
    "def checkFood():\n",
    "    for i,j in foodOnHand.items():\n",
    "        if i == 'nori' or i=='rice' or i== 'roe':\n",
    "            if j<=4:\n",
    "                print('%s is low'%i)\n",
    "                buyFood(i)"
   ]
  },
  {
   "cell_type": "code",
   "execution_count": 16,
   "metadata": {
    "collapsed": true
   },
   "outputs": [],
   "source": [
    "seatlist = [(37+x,51+y,77+x,86+y),\n",
    "            (138+x,51+y,178+x,86+y),\n",
    "            (239+x,51+y,279+x,86+y),\n",
    "            (340+x,51+y,380+x,86+y),\n",
    "            (441+x,51+y,481+x,86+y),\n",
    "            (542+x,51+y,582+x,86+y)]"
   ]
  },
  {
   "cell_type": "code",
   "execution_count": 17,
   "metadata": {
    "collapsed": true
   },
   "outputs": [],
   "source": [
    "def check_customers():\n",
    "    for seat in seatlist:\n",
    "        s = get_order(seat)\n",
    "        if s in sushi_types:\n",
    "            makeFood(sushi_types[s])\n",
    "    clear_tables()\n",
    "    checkFood()"
   ]
  },
  {
   "cell_type": "code",
   "execution_count": 21,
   "metadata": {
    "collapsed": true
   },
   "outputs": [],
   "source": [
    "def main():    \n",
    "    StartGame()\n",
    "    start = time.time()\n",
    "    while True:\n",
    "        check_customers()\n",
    "        end  = time.time()\n",
    "        if end - start > 60:\n",
    "            break;"
   ]
  },
  {
   "cell_type": "code",
   "execution_count": 24,
   "metadata": {},
   "outputs": [
    {
     "name": "stdout",
     "output_type": "stream",
     "text": [
      "rice is low\n",
      "rice is available\n",
      "nori is low\n",
      "nori is available\n",
      "roe is low\n",
      "roe is available\n",
      "rice is low\n",
      "rice is available\n",
      "rice is low\n",
      "rice is available\n"
     ]
    }
   ],
   "source": [
    "main()"
   ]
  },
  {
   "cell_type": "code",
   "execution_count": 30,
   "metadata": {
    "collapsed": true
   },
   "outputs": [],
   "source": [
    "seat1 = (37+x,51+y,77+x,86+y)\n",
    "seat2 = (138+x,51+y,178+x,86+y)\n",
    "seat3 = (239+x,51+y,279+x,86+y)\n",
    "seat4 = (340+x,51+y,380+x,86+y)\n",
    "seat5 = (441+x,51+y,481+x,86+y)\n",
    "seat6 = (542+x,51+y,582+x,86+y)\n",
    "im = ImageGrab.grab(seat6)\n",
    "im.save(os.getcwd()+'\\\\food'+str(int(time.time()))+'.png','PNG')"
   ]
  },
  {
   "cell_type": "code",
   "execution_count": 66,
   "metadata": {},
   "outputs": [
    {
     "ename": "IndexError",
     "evalue": "image index out of range",
     "output_type": "error",
     "traceback": [
      "\u001b[1;31m---------------------------------------------------------------------------\u001b[0m",
      "\u001b[1;31mIndexError\u001b[0m                                Traceback (most recent call last)",
      "\u001b[1;32m<ipython-input-66-9c772ce3401b>\u001b[0m in \u001b[0;36m<module>\u001b[1;34m()\u001b[0m\n\u001b[0;32m      2\u001b[0m \u001b[1;31m#im.getpixel((Cord.buy_rice[0]-x,Cord.buy_rice[1]-y))\u001b[0m\u001b[1;33m\u001b[0m\u001b[1;33m\u001b[0m\u001b[0m\n\u001b[0;32m      3\u001b[0m \u001b[1;31m#im.getpixel((Cord.t_nori[0]-x,Cord.t_nori[1]-y))\u001b[0m\u001b[1;33m\u001b[0m\u001b[1;33m\u001b[0m\u001b[0m\n\u001b[1;32m----> 4\u001b[1;33m \u001b[0mim\u001b[0m\u001b[1;33m.\u001b[0m\u001b[0mgetpixel\u001b[0m\u001b[1;33m(\u001b[0m\u001b[1;33m(\u001b[0m\u001b[0mCord\u001b[0m\u001b[1;33m.\u001b[0m\u001b[0mt_roe\u001b[0m\u001b[1;33m[\u001b[0m\u001b[1;36m0\u001b[0m\u001b[1;33m]\u001b[0m\u001b[1;33m-\u001b[0m\u001b[0mx\u001b[0m\u001b[1;33m,\u001b[0m\u001b[0mCord\u001b[0m\u001b[1;33m.\u001b[0m\u001b[0mt_roe\u001b[0m\u001b[1;33m[\u001b[0m\u001b[1;36m1\u001b[0m\u001b[1;33m]\u001b[0m\u001b[1;33m-\u001b[0m\u001b[0my\u001b[0m\u001b[1;33m)\u001b[0m\u001b[1;33m)\u001b[0m\u001b[1;33m\u001b[0m\u001b[0m\n\u001b[0m",
      "\u001b[1;32m~\\Anaconda3\\lib\\site-packages\\PIL\\Image.py\u001b[0m in \u001b[0;36mgetpixel\u001b[1;34m(self, xy)\u001b[0m\n\u001b[0;32m   1247\u001b[0m         \u001b[1;32mif\u001b[0m \u001b[0mself\u001b[0m\u001b[1;33m.\u001b[0m\u001b[0mpyaccess\u001b[0m\u001b[1;33m:\u001b[0m\u001b[1;33m\u001b[0m\u001b[0m\n\u001b[0;32m   1248\u001b[0m             \u001b[1;32mreturn\u001b[0m \u001b[0mself\u001b[0m\u001b[1;33m.\u001b[0m\u001b[0mpyaccess\u001b[0m\u001b[1;33m.\u001b[0m\u001b[0mgetpixel\u001b[0m\u001b[1;33m(\u001b[0m\u001b[0mxy\u001b[0m\u001b[1;33m)\u001b[0m\u001b[1;33m\u001b[0m\u001b[0m\n\u001b[1;32m-> 1249\u001b[1;33m         \u001b[1;32mreturn\u001b[0m \u001b[0mself\u001b[0m\u001b[1;33m.\u001b[0m\u001b[0mim\u001b[0m\u001b[1;33m.\u001b[0m\u001b[0mgetpixel\u001b[0m\u001b[1;33m(\u001b[0m\u001b[0mxy\u001b[0m\u001b[1;33m)\u001b[0m\u001b[1;33m\u001b[0m\u001b[0m\n\u001b[0m\u001b[0;32m   1250\u001b[0m \u001b[1;33m\u001b[0m\u001b[0m\n\u001b[0;32m   1251\u001b[0m     \u001b[1;32mdef\u001b[0m \u001b[0mgetprojection\u001b[0m\u001b[1;33m(\u001b[0m\u001b[0mself\u001b[0m\u001b[1;33m)\u001b[0m\u001b[1;33m:\u001b[0m\u001b[1;33m\u001b[0m\u001b[0m\n",
      "\u001b[1;31mIndexError\u001b[0m: image index out of range"
     ]
    }
   ],
   "source": [
    "im = screenGrab()\n",
    "#im.getpixel((Cord.buy_rice[0]-x,Cord.buy_rice[1]-y))\n",
    "#im.getpixel((Cord.t_nori[0]-x,Cord.t_nori[1]-y))\n",
    "im.getpixel((Cord.t_roe[0]-x,Cord.t_roe[1]-y))"
   ]
  },
  {
   "cell_type": "code",
   "execution_count": null,
   "metadata": {
    "collapsed": true
   },
   "outputs": [],
   "source": []
  }
 ],
 "metadata": {
  "kernelspec": {
   "display_name": "Python 3",
   "language": "python",
   "name": "python3"
  },
  "language_info": {
   "codemirror_mode": {
    "name": "ipython",
    "version": 3
   },
   "file_extension": ".py",
   "mimetype": "text/x-python",
   "name": "python",
   "nbconvert_exporter": "python",
   "pygments_lexer": "ipython3",
   "version": "3.6.3"
  }
 },
 "nbformat": 4,
 "nbformat_minor": 2
}
